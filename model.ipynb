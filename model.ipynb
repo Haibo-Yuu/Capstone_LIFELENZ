{
 "cells": [
  {
   "cell_type": "code",
   "execution_count": 3,
   "metadata": {},
   "outputs": [],
   "source": [
    "from sklearn.cluster import AgglomerativeClustering,KMeans"
   ]
  },
  {
   "cell_type": "code",
   "execution_count": 4,
   "metadata": {},
   "outputs": [],
   "source": [
    "from sklearn.preprocessing import scale, MinMaxScaler"
   ]
  },
  {
   "cell_type": "code",
   "execution_count": 5,
   "metadata": {},
   "outputs": [],
   "source": [
    "import pandas as pd\n",
    "import numpy as np"
   ]
  },
  {
   "cell_type": "code",
   "execution_count": 4,
   "metadata": {},
   "outputs": [],
   "source": [
    "action = pd.read_csv('action_list_data.csv')"
   ]
  },
  {
   "cell_type": "code",
   "execution_count": 5,
   "metadata": {},
   "outputs": [
    {
     "data": {
      "text/html": [
       "<div>\n",
       "<style scoped>\n",
       "    .dataframe tbody tr th:only-of-type {\n",
       "        vertical-align: middle;\n",
       "    }\n",
       "\n",
       "    .dataframe tbody tr th {\n",
       "        vertical-align: top;\n",
       "    }\n",
       "\n",
       "    .dataframe thead th {\n",
       "        text-align: right;\n",
       "    }\n",
       "</style>\n",
       "<table border=\"1\" class=\"dataframe\">\n",
       "  <thead>\n",
       "    <tr style=\"text-align: right;\">\n",
       "      <th></th>\n",
       "      <th>location_id</th>\n",
       "      <th>date</th>\n",
       "      <th>Business config</th>\n",
       "      <th>[object Object]</th>\n",
       "      <th>analytics-action</th>\n",
       "      <th>analytics-menu</th>\n",
       "      <th>analytics-summary</th>\n",
       "      <th>auto-create-breaks</th>\n",
       "      <th>auto-scheduling-menu</th>\n",
       "      <th>availabilities-filter</th>\n",
       "      <th>...</th>\n",
       "      <th>shift-action</th>\n",
       "      <th>shift-details-panel</th>\n",
       "      <th>shift-filter</th>\n",
       "      <th>shift-summary</th>\n",
       "      <th>splash-screen</th>\n",
       "      <th>timeclock</th>\n",
       "      <th>timepunch-details</th>\n",
       "      <th>tips</th>\n",
       "      <th>top-nav</th>\n",
       "      <th>AOS</th>\n",
       "    </tr>\n",
       "  </thead>\n",
       "  <tbody>\n",
       "    <tr>\n",
       "      <th>0</th>\n",
       "      <td>09cdf26e-403f-44ab-9573-62dfbb3cc147</td>\n",
       "      <td>2020-07-01</td>\n",
       "      <td>0.0</td>\n",
       "      <td>0.0</td>\n",
       "      <td>0.0</td>\n",
       "      <td>0.0</td>\n",
       "      <td>0.0</td>\n",
       "      <td>0.0</td>\n",
       "      <td>0.0</td>\n",
       "      <td>0.0</td>\n",
       "      <td>...</td>\n",
       "      <td>0.0</td>\n",
       "      <td>0.0</td>\n",
       "      <td>0.0</td>\n",
       "      <td>0.0</td>\n",
       "      <td>0.0</td>\n",
       "      <td>0.0</td>\n",
       "      <td>0.0</td>\n",
       "      <td>0.0</td>\n",
       "      <td>0.0</td>\n",
       "      <td>0</td>\n",
       "    </tr>\n",
       "    <tr>\n",
       "      <th>1</th>\n",
       "      <td>09cdf26e-403f-44ab-9573-62dfbb3cc147</td>\n",
       "      <td>2020-07-02</td>\n",
       "      <td>0.0</td>\n",
       "      <td>0.0</td>\n",
       "      <td>0.0</td>\n",
       "      <td>0.0</td>\n",
       "      <td>0.0</td>\n",
       "      <td>0.0</td>\n",
       "      <td>0.0</td>\n",
       "      <td>0.0</td>\n",
       "      <td>...</td>\n",
       "      <td>2.0</td>\n",
       "      <td>0.0</td>\n",
       "      <td>0.0</td>\n",
       "      <td>0.0</td>\n",
       "      <td>0.0</td>\n",
       "      <td>0.0</td>\n",
       "      <td>11.0</td>\n",
       "      <td>0.0</td>\n",
       "      <td>1.0</td>\n",
       "      <td>0</td>\n",
       "    </tr>\n",
       "    <tr>\n",
       "      <th>2</th>\n",
       "      <td>09cdf26e-403f-44ab-9573-62dfbb3cc147</td>\n",
       "      <td>2020-07-03</td>\n",
       "      <td>0.0</td>\n",
       "      <td>0.0</td>\n",
       "      <td>0.0</td>\n",
       "      <td>0.0</td>\n",
       "      <td>0.0</td>\n",
       "      <td>1.0</td>\n",
       "      <td>0.0</td>\n",
       "      <td>0.0</td>\n",
       "      <td>...</td>\n",
       "      <td>22.0</td>\n",
       "      <td>14.0</td>\n",
       "      <td>0.0</td>\n",
       "      <td>0.0</td>\n",
       "      <td>0.0</td>\n",
       "      <td>0.0</td>\n",
       "      <td>0.0</td>\n",
       "      <td>0.0</td>\n",
       "      <td>2.0</td>\n",
       "      <td>0</td>\n",
       "    </tr>\n",
       "    <tr>\n",
       "      <th>3</th>\n",
       "      <td>09cdf26e-403f-44ab-9573-62dfbb3cc147</td>\n",
       "      <td>2020-07-04</td>\n",
       "      <td>0.0</td>\n",
       "      <td>0.0</td>\n",
       "      <td>0.0</td>\n",
       "      <td>0.0</td>\n",
       "      <td>0.0</td>\n",
       "      <td>0.0</td>\n",
       "      <td>0.0</td>\n",
       "      <td>0.0</td>\n",
       "      <td>...</td>\n",
       "      <td>12.0</td>\n",
       "      <td>14.0</td>\n",
       "      <td>0.0</td>\n",
       "      <td>0.0</td>\n",
       "      <td>0.0</td>\n",
       "      <td>1.0</td>\n",
       "      <td>14.0</td>\n",
       "      <td>0.0</td>\n",
       "      <td>0.0</td>\n",
       "      <td>0</td>\n",
       "    </tr>\n",
       "    <tr>\n",
       "      <th>4</th>\n",
       "      <td>09cdf26e-403f-44ab-9573-62dfbb3cc147</td>\n",
       "      <td>2020-07-05</td>\n",
       "      <td>0.0</td>\n",
       "      <td>0.0</td>\n",
       "      <td>0.0</td>\n",
       "      <td>0.0</td>\n",
       "      <td>0.0</td>\n",
       "      <td>0.0</td>\n",
       "      <td>0.0</td>\n",
       "      <td>0.0</td>\n",
       "      <td>...</td>\n",
       "      <td>4.0</td>\n",
       "      <td>0.0</td>\n",
       "      <td>0.0</td>\n",
       "      <td>0.0</td>\n",
       "      <td>0.0</td>\n",
       "      <td>0.0</td>\n",
       "      <td>6.0</td>\n",
       "      <td>0.0</td>\n",
       "      <td>0.0</td>\n",
       "      <td>0</td>\n",
       "    </tr>\n",
       "  </tbody>\n",
       "</table>\n",
       "<p>5 rows × 53 columns</p>\n",
       "</div>"
      ],
      "text/plain": [
       "                            location_id        date  Business config  \\\n",
       "0  09cdf26e-403f-44ab-9573-62dfbb3cc147  2020-07-01              0.0   \n",
       "1  09cdf26e-403f-44ab-9573-62dfbb3cc147  2020-07-02              0.0   \n",
       "2  09cdf26e-403f-44ab-9573-62dfbb3cc147  2020-07-03              0.0   \n",
       "3  09cdf26e-403f-44ab-9573-62dfbb3cc147  2020-07-04              0.0   \n",
       "4  09cdf26e-403f-44ab-9573-62dfbb3cc147  2020-07-05              0.0   \n",
       "\n",
       "   [object Object]  analytics-action  analytics-menu  analytics-summary  \\\n",
       "0              0.0               0.0             0.0                0.0   \n",
       "1              0.0               0.0             0.0                0.0   \n",
       "2              0.0               0.0             0.0                0.0   \n",
       "3              0.0               0.0             0.0                0.0   \n",
       "4              0.0               0.0             0.0                0.0   \n",
       "\n",
       "   auto-create-breaks  auto-scheduling-menu  availabilities-filter  ...  \\\n",
       "0                 0.0                   0.0                    0.0  ...   \n",
       "1                 0.0                   0.0                    0.0  ...   \n",
       "2                 1.0                   0.0                    0.0  ...   \n",
       "3                 0.0                   0.0                    0.0  ...   \n",
       "4                 0.0                   0.0                    0.0  ...   \n",
       "\n",
       "   shift-action  shift-details-panel  shift-filter  shift-summary  \\\n",
       "0           0.0                  0.0           0.0            0.0   \n",
       "1           2.0                  0.0           0.0            0.0   \n",
       "2          22.0                 14.0           0.0            0.0   \n",
       "3          12.0                 14.0           0.0            0.0   \n",
       "4           4.0                  0.0           0.0            0.0   \n",
       "\n",
       "   splash-screen  timeclock  timepunch-details  tips  top-nav  AOS  \n",
       "0            0.0        0.0                0.0   0.0      0.0    0  \n",
       "1            0.0        0.0               11.0   0.0      1.0    0  \n",
       "2            0.0        0.0                0.0   0.0      2.0    0  \n",
       "3            0.0        1.0               14.0   0.0      0.0    0  \n",
       "4            0.0        0.0                6.0   0.0      0.0    0  \n",
       "\n",
       "[5 rows x 53 columns]"
      ]
     },
     "execution_count": 5,
     "metadata": {},
     "output_type": "execute_result"
    }
   ],
   "source": [
    "action.head()"
   ]
  },
  {
   "cell_type": "code",
   "execution_count": 6,
   "metadata": {},
   "outputs": [],
   "source": [
    "kmeans = KMeans(n_clusters=2, random_state=0)"
   ]
  },
  {
   "cell_type": "code",
   "execution_count": 7,
   "metadata": {},
   "outputs": [],
   "source": [
    "x = action.iloc[:,2:-2]"
   ]
  },
  {
   "cell_type": "markdown",
   "metadata": {},
   "source": [
    "删除错误列"
   ]
  },
  {
   "cell_type": "code",
   "execution_count": 8,
   "metadata": {},
   "outputs": [],
   "source": [
    "x = x.drop('[object Object]', axis=1)"
   ]
  },
  {
   "cell_type": "code",
   "execution_count": 9,
   "metadata": {},
   "outputs": [
    {
     "data": {
      "text/html": [
       "<div>\n",
       "<style scoped>\n",
       "    .dataframe tbody tr th:only-of-type {\n",
       "        vertical-align: middle;\n",
       "    }\n",
       "\n",
       "    .dataframe tbody tr th {\n",
       "        vertical-align: top;\n",
       "    }\n",
       "\n",
       "    .dataframe thead th {\n",
       "        text-align: right;\n",
       "    }\n",
       "</style>\n",
       "<table border=\"1\" class=\"dataframe\">\n",
       "  <thead>\n",
       "    <tr style=\"text-align: right;\">\n",
       "      <th></th>\n",
       "      <th>Business config</th>\n",
       "      <th>analytics-action</th>\n",
       "      <th>analytics-menu</th>\n",
       "      <th>analytics-summary</th>\n",
       "      <th>auto-create-breaks</th>\n",
       "      <th>auto-scheduling-menu</th>\n",
       "      <th>availabilities-filter</th>\n",
       "      <th>availability-publishing</th>\n",
       "      <th>business-config</th>\n",
       "      <th>calendar-view-navigation</th>\n",
       "      <th>...</th>\n",
       "      <th>schedule-menu</th>\n",
       "      <th>schedule-view-options</th>\n",
       "      <th>shift-action</th>\n",
       "      <th>shift-details-panel</th>\n",
       "      <th>shift-filter</th>\n",
       "      <th>shift-summary</th>\n",
       "      <th>splash-screen</th>\n",
       "      <th>timeclock</th>\n",
       "      <th>timepunch-details</th>\n",
       "      <th>tips</th>\n",
       "    </tr>\n",
       "  </thead>\n",
       "  <tbody>\n",
       "    <tr>\n",
       "      <th>0</th>\n",
       "      <td>0.0</td>\n",
       "      <td>0.0</td>\n",
       "      <td>0.0</td>\n",
       "      <td>0.0</td>\n",
       "      <td>0.0</td>\n",
       "      <td>0.0</td>\n",
       "      <td>0.0</td>\n",
       "      <td>0.0</td>\n",
       "      <td>0.0</td>\n",
       "      <td>0.0</td>\n",
       "      <td>...</td>\n",
       "      <td>0.0</td>\n",
       "      <td>0.0</td>\n",
       "      <td>0.0</td>\n",
       "      <td>0.0</td>\n",
       "      <td>0.0</td>\n",
       "      <td>0.0</td>\n",
       "      <td>0.0</td>\n",
       "      <td>0.0</td>\n",
       "      <td>0.0</td>\n",
       "      <td>0.0</td>\n",
       "    </tr>\n",
       "    <tr>\n",
       "      <th>1</th>\n",
       "      <td>0.0</td>\n",
       "      <td>0.0</td>\n",
       "      <td>0.0</td>\n",
       "      <td>0.0</td>\n",
       "      <td>0.0</td>\n",
       "      <td>0.0</td>\n",
       "      <td>0.0</td>\n",
       "      <td>0.0</td>\n",
       "      <td>0.0</td>\n",
       "      <td>2.0</td>\n",
       "      <td>...</td>\n",
       "      <td>0.0</td>\n",
       "      <td>0.0</td>\n",
       "      <td>2.0</td>\n",
       "      <td>0.0</td>\n",
       "      <td>0.0</td>\n",
       "      <td>0.0</td>\n",
       "      <td>0.0</td>\n",
       "      <td>0.0</td>\n",
       "      <td>11.0</td>\n",
       "      <td>0.0</td>\n",
       "    </tr>\n",
       "    <tr>\n",
       "      <th>2</th>\n",
       "      <td>0.0</td>\n",
       "      <td>0.0</td>\n",
       "      <td>0.0</td>\n",
       "      <td>0.0</td>\n",
       "      <td>1.0</td>\n",
       "      <td>0.0</td>\n",
       "      <td>0.0</td>\n",
       "      <td>0.0</td>\n",
       "      <td>0.0</td>\n",
       "      <td>7.0</td>\n",
       "      <td>...</td>\n",
       "      <td>0.0</td>\n",
       "      <td>0.0</td>\n",
       "      <td>22.0</td>\n",
       "      <td>14.0</td>\n",
       "      <td>0.0</td>\n",
       "      <td>0.0</td>\n",
       "      <td>0.0</td>\n",
       "      <td>0.0</td>\n",
       "      <td>0.0</td>\n",
       "      <td>0.0</td>\n",
       "    </tr>\n",
       "    <tr>\n",
       "      <th>3</th>\n",
       "      <td>0.0</td>\n",
       "      <td>0.0</td>\n",
       "      <td>0.0</td>\n",
       "      <td>0.0</td>\n",
       "      <td>0.0</td>\n",
       "      <td>0.0</td>\n",
       "      <td>0.0</td>\n",
       "      <td>0.0</td>\n",
       "      <td>0.0</td>\n",
       "      <td>6.0</td>\n",
       "      <td>...</td>\n",
       "      <td>0.0</td>\n",
       "      <td>0.0</td>\n",
       "      <td>12.0</td>\n",
       "      <td>14.0</td>\n",
       "      <td>0.0</td>\n",
       "      <td>0.0</td>\n",
       "      <td>0.0</td>\n",
       "      <td>1.0</td>\n",
       "      <td>14.0</td>\n",
       "      <td>0.0</td>\n",
       "    </tr>\n",
       "    <tr>\n",
       "      <th>4</th>\n",
       "      <td>0.0</td>\n",
       "      <td>0.0</td>\n",
       "      <td>0.0</td>\n",
       "      <td>0.0</td>\n",
       "      <td>0.0</td>\n",
       "      <td>0.0</td>\n",
       "      <td>0.0</td>\n",
       "      <td>0.0</td>\n",
       "      <td>0.0</td>\n",
       "      <td>2.0</td>\n",
       "      <td>...</td>\n",
       "      <td>0.0</td>\n",
       "      <td>0.0</td>\n",
       "      <td>4.0</td>\n",
       "      <td>0.0</td>\n",
       "      <td>0.0</td>\n",
       "      <td>0.0</td>\n",
       "      <td>0.0</td>\n",
       "      <td>0.0</td>\n",
       "      <td>6.0</td>\n",
       "      <td>0.0</td>\n",
       "    </tr>\n",
       "    <tr>\n",
       "      <th>...</th>\n",
       "      <td>...</td>\n",
       "      <td>...</td>\n",
       "      <td>...</td>\n",
       "      <td>...</td>\n",
       "      <td>...</td>\n",
       "      <td>...</td>\n",
       "      <td>...</td>\n",
       "      <td>...</td>\n",
       "      <td>...</td>\n",
       "      <td>...</td>\n",
       "      <td>...</td>\n",
       "      <td>...</td>\n",
       "      <td>...</td>\n",
       "      <td>...</td>\n",
       "      <td>...</td>\n",
       "      <td>...</td>\n",
       "      <td>...</td>\n",
       "      <td>...</td>\n",
       "      <td>...</td>\n",
       "      <td>...</td>\n",
       "      <td>...</td>\n",
       "    </tr>\n",
       "    <tr>\n",
       "      <th>2211</th>\n",
       "      <td>0.0</td>\n",
       "      <td>0.0</td>\n",
       "      <td>0.0</td>\n",
       "      <td>0.0</td>\n",
       "      <td>1.0</td>\n",
       "      <td>0.0</td>\n",
       "      <td>0.0</td>\n",
       "      <td>2.0</td>\n",
       "      <td>0.0</td>\n",
       "      <td>6.0</td>\n",
       "      <td>...</td>\n",
       "      <td>0.0</td>\n",
       "      <td>0.0</td>\n",
       "      <td>16.0</td>\n",
       "      <td>3.0</td>\n",
       "      <td>0.0</td>\n",
       "      <td>0.0</td>\n",
       "      <td>1.0</td>\n",
       "      <td>0.0</td>\n",
       "      <td>14.0</td>\n",
       "      <td>0.0</td>\n",
       "    </tr>\n",
       "    <tr>\n",
       "      <th>2212</th>\n",
       "      <td>0.0</td>\n",
       "      <td>0.0</td>\n",
       "      <td>0.0</td>\n",
       "      <td>0.0</td>\n",
       "      <td>0.0</td>\n",
       "      <td>0.0</td>\n",
       "      <td>0.0</td>\n",
       "      <td>0.0</td>\n",
       "      <td>0.0</td>\n",
       "      <td>2.0</td>\n",
       "      <td>...</td>\n",
       "      <td>0.0</td>\n",
       "      <td>0.0</td>\n",
       "      <td>0.0</td>\n",
       "      <td>0.0</td>\n",
       "      <td>0.0</td>\n",
       "      <td>0.0</td>\n",
       "      <td>0.0</td>\n",
       "      <td>0.0</td>\n",
       "      <td>16.0</td>\n",
       "      <td>0.0</td>\n",
       "    </tr>\n",
       "    <tr>\n",
       "      <th>2213</th>\n",
       "      <td>0.0</td>\n",
       "      <td>0.0</td>\n",
       "      <td>0.0</td>\n",
       "      <td>0.0</td>\n",
       "      <td>0.0</td>\n",
       "      <td>0.0</td>\n",
       "      <td>0.0</td>\n",
       "      <td>0.0</td>\n",
       "      <td>0.0</td>\n",
       "      <td>11.0</td>\n",
       "      <td>...</td>\n",
       "      <td>0.0</td>\n",
       "      <td>0.0</td>\n",
       "      <td>2.0</td>\n",
       "      <td>0.0</td>\n",
       "      <td>0.0</td>\n",
       "      <td>0.0</td>\n",
       "      <td>0.0</td>\n",
       "      <td>0.0</td>\n",
       "      <td>19.0</td>\n",
       "      <td>0.0</td>\n",
       "    </tr>\n",
       "    <tr>\n",
       "      <th>2214</th>\n",
       "      <td>0.0</td>\n",
       "      <td>0.0</td>\n",
       "      <td>0.0</td>\n",
       "      <td>0.0</td>\n",
       "      <td>0.0</td>\n",
       "      <td>0.0</td>\n",
       "      <td>0.0</td>\n",
       "      <td>0.0</td>\n",
       "      <td>0.0</td>\n",
       "      <td>0.0</td>\n",
       "      <td>...</td>\n",
       "      <td>0.0</td>\n",
       "      <td>0.0</td>\n",
       "      <td>1.0</td>\n",
       "      <td>0.0</td>\n",
       "      <td>0.0</td>\n",
       "      <td>0.0</td>\n",
       "      <td>1.0</td>\n",
       "      <td>0.0</td>\n",
       "      <td>22.0</td>\n",
       "      <td>0.0</td>\n",
       "    </tr>\n",
       "    <tr>\n",
       "      <th>2215</th>\n",
       "      <td>0.0</td>\n",
       "      <td>0.0</td>\n",
       "      <td>0.0</td>\n",
       "      <td>0.0</td>\n",
       "      <td>0.0</td>\n",
       "      <td>0.0</td>\n",
       "      <td>0.0</td>\n",
       "      <td>0.0</td>\n",
       "      <td>0.0</td>\n",
       "      <td>0.0</td>\n",
       "      <td>...</td>\n",
       "      <td>0.0</td>\n",
       "      <td>0.0</td>\n",
       "      <td>1.0</td>\n",
       "      <td>0.0</td>\n",
       "      <td>0.0</td>\n",
       "      <td>0.0</td>\n",
       "      <td>0.0</td>\n",
       "      <td>0.0</td>\n",
       "      <td>7.0</td>\n",
       "      <td>0.0</td>\n",
       "    </tr>\n",
       "  </tbody>\n",
       "</table>\n",
       "<p>2216 rows × 48 columns</p>\n",
       "</div>"
      ],
      "text/plain": [
       "      Business config  analytics-action  analytics-menu  analytics-summary  \\\n",
       "0                 0.0               0.0             0.0                0.0   \n",
       "1                 0.0               0.0             0.0                0.0   \n",
       "2                 0.0               0.0             0.0                0.0   \n",
       "3                 0.0               0.0             0.0                0.0   \n",
       "4                 0.0               0.0             0.0                0.0   \n",
       "...               ...               ...             ...                ...   \n",
       "2211              0.0               0.0             0.0                0.0   \n",
       "2212              0.0               0.0             0.0                0.0   \n",
       "2213              0.0               0.0             0.0                0.0   \n",
       "2214              0.0               0.0             0.0                0.0   \n",
       "2215              0.0               0.0             0.0                0.0   \n",
       "\n",
       "      auto-create-breaks  auto-scheduling-menu  availabilities-filter  \\\n",
       "0                    0.0                   0.0                    0.0   \n",
       "1                    0.0                   0.0                    0.0   \n",
       "2                    1.0                   0.0                    0.0   \n",
       "3                    0.0                   0.0                    0.0   \n",
       "4                    0.0                   0.0                    0.0   \n",
       "...                  ...                   ...                    ...   \n",
       "2211                 1.0                   0.0                    0.0   \n",
       "2212                 0.0                   0.0                    0.0   \n",
       "2213                 0.0                   0.0                    0.0   \n",
       "2214                 0.0                   0.0                    0.0   \n",
       "2215                 0.0                   0.0                    0.0   \n",
       "\n",
       "      availability-publishing  business-config  calendar-view-navigation  ...  \\\n",
       "0                         0.0              0.0                       0.0  ...   \n",
       "1                         0.0              0.0                       2.0  ...   \n",
       "2                         0.0              0.0                       7.0  ...   \n",
       "3                         0.0              0.0                       6.0  ...   \n",
       "4                         0.0              0.0                       2.0  ...   \n",
       "...                       ...              ...                       ...  ...   \n",
       "2211                      2.0              0.0                       6.0  ...   \n",
       "2212                      0.0              0.0                       2.0  ...   \n",
       "2213                      0.0              0.0                      11.0  ...   \n",
       "2214                      0.0              0.0                       0.0  ...   \n",
       "2215                      0.0              0.0                       0.0  ...   \n",
       "\n",
       "      schedule-menu  schedule-view-options  shift-action  shift-details-panel  \\\n",
       "0               0.0                    0.0           0.0                  0.0   \n",
       "1               0.0                    0.0           2.0                  0.0   \n",
       "2               0.0                    0.0          22.0                 14.0   \n",
       "3               0.0                    0.0          12.0                 14.0   \n",
       "4               0.0                    0.0           4.0                  0.0   \n",
       "...             ...                    ...           ...                  ...   \n",
       "2211            0.0                    0.0          16.0                  3.0   \n",
       "2212            0.0                    0.0           0.0                  0.0   \n",
       "2213            0.0                    0.0           2.0                  0.0   \n",
       "2214            0.0                    0.0           1.0                  0.0   \n",
       "2215            0.0                    0.0           1.0                  0.0   \n",
       "\n",
       "      shift-filter  shift-summary  splash-screen  timeclock  \\\n",
       "0              0.0            0.0            0.0        0.0   \n",
       "1              0.0            0.0            0.0        0.0   \n",
       "2              0.0            0.0            0.0        0.0   \n",
       "3              0.0            0.0            0.0        1.0   \n",
       "4              0.0            0.0            0.0        0.0   \n",
       "...            ...            ...            ...        ...   \n",
       "2211           0.0            0.0            1.0        0.0   \n",
       "2212           0.0            0.0            0.0        0.0   \n",
       "2213           0.0            0.0            0.0        0.0   \n",
       "2214           0.0            0.0            1.0        0.0   \n",
       "2215           0.0            0.0            0.0        0.0   \n",
       "\n",
       "      timepunch-details  tips  \n",
       "0                   0.0   0.0  \n",
       "1                  11.0   0.0  \n",
       "2                   0.0   0.0  \n",
       "3                  14.0   0.0  \n",
       "4                   6.0   0.0  \n",
       "...                 ...   ...  \n",
       "2211               14.0   0.0  \n",
       "2212               16.0   0.0  \n",
       "2213               19.0   0.0  \n",
       "2214               22.0   0.0  \n",
       "2215                7.0   0.0  \n",
       "\n",
       "[2216 rows x 48 columns]"
      ]
     },
     "execution_count": 9,
     "metadata": {},
     "output_type": "execute_result"
    }
   ],
   "source": [
    "x"
   ]
  },
  {
   "cell_type": "markdown",
   "metadata": {},
   "source": [
    "- 归一化"
   ]
  },
  {
   "cell_type": "code",
   "execution_count": 10,
   "metadata": {},
   "outputs": [],
   "source": [
    "min_max_scaler = MinMaxScaler()"
   ]
  },
  {
   "cell_type": "code",
   "execution_count": 11,
   "metadata": {},
   "outputs": [],
   "source": [
    "x_norm = min_max_scaler.fit_transform(x)"
   ]
  },
  {
   "cell_type": "markdown",
   "metadata": {},
   "source": [
    "#### kmeans 跑一遍原始数据集"
   ]
  },
  {
   "cell_type": "code",
   "execution_count": 12,
   "metadata": {},
   "outputs": [
    {
     "data": {
      "text/plain": [
       "KMeans(n_clusters=2, random_state=0)"
      ]
     },
     "execution_count": 12,
     "metadata": {},
     "output_type": "execute_result"
    }
   ],
   "source": [
    "kmeans.fit(x_norm)"
   ]
  },
  {
   "cell_type": "code",
   "execution_count": 13,
   "metadata": {},
   "outputs": [
    {
     "data": {
      "text/plain": [
       "array([0, 0, 0, ..., 0, 0, 0], dtype=int32)"
      ]
     },
     "execution_count": 13,
     "metadata": {},
     "output_type": "execute_result"
    }
   ],
   "source": [
    "kmeans.labels_"
   ]
  },
  {
   "cell_type": "code",
   "execution_count": 14,
   "metadata": {},
   "outputs": [],
   "source": [
    "labels = kmeans.labels_"
   ]
  },
  {
   "cell_type": "code",
   "execution_count": 58,
   "metadata": {},
   "outputs": [],
   "source": [
    "# 因变量y\n",
    "if_aos = action.iloc[:,-1]"
   ]
  },
  {
   "cell_type": "markdown",
   "metadata": {},
   "source": [
    "计算纯度purity\n",
    "- 与aos分类标签方向一致的1310/2216，不够好"
   ]
  },
  {
   "cell_type": "code",
   "execution_count": 16,
   "metadata": {},
   "outputs": [
    {
     "data": {
      "text/plain": [
       "904"
      ]
     },
     "execution_count": 16,
     "metadata": {},
     "output_type": "execute_result"
    }
   ],
   "source": [
    "abs(if_aos - labels).sum()"
   ]
  },
  {
   "cell_type": "markdown",
   "metadata": {},
   "source": [
    "#### 用层次聚类法"
   ]
  },
  {
   "cell_type": "code",
   "execution_count": 17,
   "metadata": {},
   "outputs": [],
   "source": [
    "hierarchical = AgglomerativeClustering()"
   ]
  },
  {
   "cell_type": "code",
   "execution_count": 18,
   "metadata": {},
   "outputs": [
    {
     "data": {
      "text/plain": [
       "AgglomerativeClustering()"
      ]
     },
     "execution_count": 18,
     "metadata": {},
     "output_type": "execute_result"
    }
   ],
   "source": [
    "hierarchical.fit(x_norm)"
   ]
  },
  {
   "cell_type": "code",
   "execution_count": 19,
   "metadata": {},
   "outputs": [
    {
     "data": {
      "text/plain": [
       "array([0, 0, 0, ..., 0, 0, 0])"
      ]
     },
     "execution_count": 19,
     "metadata": {},
     "output_type": "execute_result"
    }
   ],
   "source": [
    "hierarchical.labels_"
   ]
  },
  {
   "cell_type": "code",
   "execution_count": 20,
   "metadata": {},
   "outputs": [],
   "source": [
    "labels_hierarchical = hierarchical.labels_"
   ]
  },
  {
   "cell_type": "markdown",
   "metadata": {},
   "source": [
    "\n",
    "计算纯度purity\n",
    "- 与aos标签一致的1338/2216，不够好"
   ]
  },
  {
   "cell_type": "code",
   "execution_count": 21,
   "metadata": {},
   "outputs": [
    {
     "data": {
      "text/plain": [
       "886"
      ]
     },
     "execution_count": 21,
     "metadata": {},
     "output_type": "execute_result"
    }
   ],
   "source": [
    "abs(labels_hierarchical-if_aos).sum()"
   ]
  },
  {
   "cell_type": "code",
   "execution_count": 22,
   "metadata": {},
   "outputs": [
    {
     "data": {
      "text/plain": [
       "1338"
      ]
     },
     "execution_count": 22,
     "metadata": {},
     "output_type": "execute_result"
    }
   ],
   "source": [
    "2216-878"
   ]
  },
  {
   "cell_type": "markdown",
   "metadata": {},
   "source": [
    "#### 检查多重共线性"
   ]
  },
  {
   "cell_type": "code",
   "execution_count": 23,
   "metadata": {},
   "outputs": [],
   "source": [
    "x_cor_matrix = x.corr()"
   ]
  },
  {
   "cell_type": "code",
   "execution_count": 24,
   "metadata": {},
   "outputs": [],
   "source": [
    "import matplotlib.pyplot as plt\n",
    "import seaborn as sns"
   ]
  },
  {
   "cell_type": "code",
   "execution_count": 25,
   "metadata": {},
   "outputs": [
    {
     "data": {
      "text/plain": [
       "<AxesSubplot:>"
      ]
     },
     "execution_count": 25,
     "metadata": {},
     "output_type": "execute_result"
    },
    {
     "data": {
      "image/png": "[encoded data removed]",
      "text/plain": [
       "<Figure size 432x288 with 2 Axes>"
      ]
     },
     "metadata": {
      "needs_background": "light"
     },
     "output_type": "display_data"
    }
   ],
   "source": [
    "sns.heatmap(x_cor_matrix)"
   ]
  },
  {
   "cell_type": "markdown",
   "metadata": {},
   "source": [
    "* 去掉相关性高的列再归一化"
   ]
  },
  {
   "cell_type": "code",
   "execution_count": 26,
   "metadata": {},
   "outputs": [],
   "source": [
    "x_dropped = x.drop(['shift-details-panel'],axis=1)"
   ]
  },
  {
   "cell_type": "code",
   "execution_count": 28,
   "metadata": {},
   "outputs": [],
   "source": [
    "x_dropped_norm = min_max_scaler.fit_transform(x_dropped)"
   ]
  },
  {
   "cell_type": "markdown",
   "metadata": {},
   "source": [
    "- 再试一下聚类"
   ]
  },
  {
   "cell_type": "code",
   "execution_count": 29,
   "metadata": {},
   "outputs": [],
   "source": [
    "labels3 = kmeans.fit(x_dropped_norm).labels_"
   ]
  },
  {
   "cell_type": "code",
   "execution_count": 30,
   "metadata": {},
   "outputs": [
    {
     "data": {
      "text/plain": [
       "912"
      ]
     },
     "execution_count": 30,
     "metadata": {},
     "output_type": "execute_result"
    }
   ],
   "source": [
    "abs(labels3-if_aos).sum()"
   ]
  },
  {
   "cell_type": "code",
   "execution_count": 31,
   "metadata": {},
   "outputs": [
    {
     "data": {
      "text/plain": [
       "1304"
      ]
     },
     "execution_count": 31,
     "metadata": {},
     "output_type": "execute_result"
    }
   ],
   "source": [
    "2216-912"
   ]
  },
  {
   "cell_type": "markdown",
   "metadata": {},
   "source": [
    "计算纯度"
   ]
  },
  {
   "cell_type": "code",
   "execution_count": 32,
   "metadata": {},
   "outputs": [
    {
     "data": {
      "text/plain": [
       "0.5884476534296029"
      ]
     },
     "execution_count": 32,
     "metadata": {},
     "output_type": "execute_result"
    }
   ],
   "source": [
    "1304/2216"
   ]
  },
  {
   "cell_type": "markdown",
   "metadata": {},
   "source": [
    "~~实在是不好用~~"
   ]
  },
  {
   "cell_type": "markdown",
   "metadata": {},
   "source": [
    "- 尝试去掉总统计次数小于一定值的列"
   ]
  },
  {
   "cell_type": "code",
   "execution_count": 33,
   "metadata": {},
   "outputs": [
    {
     "data": {
      "text/plain": [
       "2431.340425531915"
      ]
     },
     "execution_count": 33,
     "metadata": {},
     "output_type": "execute_result"
    }
   ],
   "source": [
    "x_dropped.sum().mean()"
   ]
  },
  {
   "cell_type": "code",
   "execution_count": 34,
   "metadata": {},
   "outputs": [],
   "source": [
    "x_copy = x_dropped.copy()"
   ]
  },
  {
   "cell_type": "code",
   "execution_count": 35,
   "metadata": {},
   "outputs": [],
   "source": [
    "sum_list = x_dropped.sum()"
   ]
  },
  {
   "cell_type": "code",
   "execution_count": 36,
   "metadata": {},
   "outputs": [
    {
     "data": {
      "text/plain": [
       "Index(['Business config', 'analytics-action', 'analytics-menu',\n",
       "       'analytics-summary', 'auto-create-breaks', 'auto-scheduling-menu',\n",
       "       'availabilities-filter', 'availability-publishing', 'business-config',\n",
       "       'calendar-view-navigation', 'change-password', 'change-visibility',\n",
       "       'compliance-actions', 'compliance-pay', 'compliance-table',\n",
       "       'compliance-warning-dropdown', 'compliance-warning-filter',\n",
       "       'conversations', 'employee-availability-summary', 'employee-details',\n",
       "       'filter-by-people', 'flyout', 'forecast-filter', 'growl-notification',\n",
       "       'invite-user', 'manager-approval', 'manager-approval - shift-drop',\n",
       "       'manager-approval - shift-list', 'manager-approval - shift-swap',\n",
       "       'manager-approval - unavailability', 'misc-pay', 'notification-panel',\n",
       "       'payments', 'report', 'role-filter', 'schedule', 'schedule-action',\n",
       "       'schedule-config', 'schedule-menu', 'schedule-view-options',\n",
       "       'shift-action', 'shift-filter', 'shift-summary', 'splash-screen',\n",
       "       'timeclock', 'timepunch-details', 'tips'],\n",
       "      dtype='object')"
      ]
     },
     "execution_count": 36,
     "metadata": {},
     "output_type": "execute_result"
    }
   ],
   "source": [
    "sum_list.index"
   ]
  },
  {
   "cell_type": "code",
   "execution_count": 37,
   "metadata": {},
   "outputs": [],
   "source": [
    "for i in range(0,len(sum_list)):\n",
    "    if sum_list[i] <= 500:\n",
    "        x_copy = x_copy.drop([sum_list.index[i]], axis=1)"
   ]
  },
  {
   "cell_type": "code",
   "execution_count": 38,
   "metadata": {},
   "outputs": [
    {
     "data": {
      "text/plain": [
       "Index(['analytics-summary', 'auto-create-breaks', 'availability-publishing',\n",
       "       'calendar-view-navigation', 'compliance-actions',\n",
       "       'compliance-warning-dropdown', 'flyout',\n",
       "       'manager-approval - shift-drop', 'manager-approval - unavailability',\n",
       "       'notification-panel', 'role-filter', 'schedule', 'schedule-action',\n",
       "       'schedule-menu', 'shift-action', 'splash-screen', 'timepunch-details'],\n",
       "      dtype='object')"
      ]
     },
     "execution_count": 38,
     "metadata": {},
     "output_type": "execute_result"
    }
   ],
   "source": [
    "x_copy.columns"
   ]
  },
  {
   "cell_type": "code",
   "execution_count": 39,
   "metadata": {},
   "outputs": [],
   "source": [
    "x_copy_norm = min_max_scaler.fit_transform(x_copy)"
   ]
  },
  {
   "cell_type": "code",
   "execution_count": 40,
   "metadata": {},
   "outputs": [],
   "source": [
    "labels4 = kmeans.fit(x_copy_norm).labels_"
   ]
  },
  {
   "cell_type": "code",
   "execution_count": 41,
   "metadata": {},
   "outputs": [
    {
     "data": {
      "text/plain": [
       "909"
      ]
     },
     "execution_count": 41,
     "metadata": {},
     "output_type": "execute_result"
    }
   ],
   "source": [
    "abs(labels4-if_aos).sum()"
   ]
  },
  {
   "cell_type": "markdown",
   "metadata": {},
   "source": [
    "因为只是去掉了矩阵稀疏的部分而没有真正地做特征变换（也不太方便做特征变换，因为我们还需要保留每个feature的现实含义）\n"
   ]
  },
  {
   "cell_type": "markdown",
   "metadata": {},
   "source": [
    "理论上确实不会有很好的改进效果，尝试换一个思路"
   ]
  },
  {
   "cell_type": "markdown",
   "metadata": {},
   "source": [
    "---"
   ]
  },
  {
   "cell_type": "markdown",
   "metadata": {},
   "source": [
    "### 使用分类器，试图找出最大影响特征，用于反向说明aos的应用对action的影响"
   ]
  },
  {
   "cell_type": "markdown",
   "metadata": {},
   "source": [
    "**x使用的是未进行特征选择与归一化的数据集**\n",
    "- 不需要归一化\n",
    "- 很多分类器有正则化手段，比如log默认使用L2，所以不事先进行feature筛选"
   ]
  },
  {
   "cell_type": "code",
   "execution_count": 42,
   "metadata": {},
   "outputs": [],
   "source": [
    "from sklearn.model_selection import cross_val_score\n",
    "from sklearn.linear_model import LogisticRegression"
   ]
  },
  {
   "cell_type": "code",
   "execution_count": 43,
   "metadata": {},
   "outputs": [],
   "source": [
    "log = LogisticRegression(random_state=0,max_iter=10000)"
   ]
  },
  {
   "cell_type": "code",
   "execution_count": 44,
   "metadata": {},
   "outputs": [
    {
     "name": "stdout",
     "output_type": "stream",
     "text": [
      "logistic accuracy: 0.73 (+/- 0.07)\n"
     ]
    }
   ],
   "source": [
    "log_score = cross_val_score(log, x_dropped, if_aos, cv=10)\n",
    "print(\"logistic accuracy: %0.2f (+/- %0.2f)\" % (log_score.mean(), log_score.std() * 2))"
   ]
  },
  {
   "cell_type": "code",
   "execution_count": 45,
   "metadata": {},
   "outputs": [],
   "source": [
    "from sklearn.ensemble import RandomForestClassifier\n",
    "from sklearn.ensemble import ExtraTreesClassifier\n",
    "from sklearn.tree import DecisionTreeClassifier\n",
    "import xgboost as xgb\n",
    "import warnings\n",
    "warnings.filterwarnings('ignore')"
   ]
  },
  {
   "cell_type": "code",
   "execution_count": 46,
   "metadata": {},
   "outputs": [
    {
     "name": "stdout",
     "output_type": "stream",
     "text": [
      "tree accuracy: 0.67 (+/- 0.09)\n"
     ]
    }
   ],
   "source": [
    "tree = DecisionTreeClassifier(max_depth=None, min_samples_split=2, random_state=0)\n",
    "tree_scores = cross_val_score(tree, x_dropped, if_aos, cv=10)\n",
    "print(\"tree accuracy: %0.2f (+/- %0.2f)\" % (tree_scores.mean(), tree_scores.std() * 2))"
   ]
  },
  {
   "cell_type": "code",
   "execution_count": 47,
   "metadata": {},
   "outputs": [
    {
     "name": "stdout",
     "output_type": "stream",
     "text": [
      "rf accuracy: 0.73 (+/- 0.08)\n"
     ]
    }
   ],
   "source": [
    "rf = RandomForestClassifier(n_estimators=10, max_depth=None,\n",
    "     min_samples_split=2, random_state=0)\n",
    "rf_scores = cross_val_score(rf, x_dropped, if_aos,cv=10)\n",
    "print(\"rf accuracy: %0.2f (+/- %0.2f)\" % (rf_scores.mean(), rf_scores.std() * 2))"
   ]
  },
  {
   "cell_type": "code",
   "execution_count": 48,
   "metadata": {},
   "outputs": [
    {
     "name": "stdout",
     "output_type": "stream",
     "text": [
      "et accuracy: 0.74 (+/- 0.07)\n"
     ]
    }
   ],
   "source": [
    "et = ExtraTreesClassifier(n_estimators=10, max_depth=None,\n",
    "     min_samples_split=2, random_state=0)\n",
    "et_scores = cross_val_score(et, x_dropped, if_aos, cv=10)\n",
    "print(\"et accuracy: %0.2f (+/- %0.2f)\" % (et_scores.mean(), et_scores.std() * 2))"
   ]
  },
  {
   "cell_type": "code",
   "execution_count": 49,
   "metadata": {},
   "outputs": [],
   "source": [
    "from xgboost import XGBClassifier\n",
    "num_round = 100\n",
    "xgbc =XGBClassifier(max_depth=2, learning_rate=1, n_estimators=num_round, #弱分类树太少的话取不到更多的特征重要性\n",
    "         objective='binary:logistic')"
   ]
  },
  {
   "cell_type": "code",
   "execution_count": 50,
   "metadata": {},
   "outputs": [],
   "source": [
    "xgbc_scores = cross_val_score(xgbc, x_dropped.values, if_aos, cv=10)"
   ]
  },
  {
   "cell_type": "code",
   "execution_count": 51,
   "metadata": {},
   "outputs": [
    {
     "name": "stdout",
     "output_type": "stream",
     "text": [
      "xgbc accuracy: 0.74 (+/- 0.08)\n"
     ]
    }
   ],
   "source": [
    "print(\"xgbc accuracy: %0.2f (+/- %0.2f)\" % (xgbc_scores.mean(), xgbc_scores.std() * 2))"
   ]
  },
  {
   "cell_type": "raw",
   "metadata": {},
   "source": [
    "这个准确率勉强能用了"
   ]
  },
  {
   "cell_type": "markdown",
   "metadata": {},
   "source": [
    "### 导出feature importance 并画图"
   ]
  },
  {
   "cell_type": "markdown",
   "metadata": {},
   "source": [
    "#### 1.randomforest"
   ]
  },
  {
   "cell_type": "code",
   "execution_count": 52,
   "metadata": {},
   "outputs": [],
   "source": [
    "rf_fit = rf.fit(x_dropped, if_aos)"
   ]
  },
  {
   "cell_type": "code",
   "execution_count": 53,
   "metadata": {},
   "outputs": [],
   "source": [
    "fi = rf_fit.feature_importances_"
   ]
  },
  {
   "cell_type": "code",
   "execution_count": 54,
   "metadata": {},
   "outputs": [],
   "source": [
    "fi = pd.Series(fi,index=x_dropped.columns)"
   ]
  },
  {
   "cell_type": "code",
   "execution_count": 55,
   "metadata": {},
   "outputs": [
    {
     "data": {
      "text/plain": [
       "timepunch-details                    0.168841\n",
       "shift-action                         0.110372\n",
       "compliance-warning-dropdown          0.081008\n",
       "calendar-view-navigation             0.073091\n",
       "compliance-warning-filter            0.060347\n",
       "flyout                               0.057367\n",
       "schedule                             0.046941\n",
       "notification-panel                   0.042645\n",
       "compliance-actions                   0.041894\n",
       "analytics-menu                       0.028087\n",
       "timeclock                            0.026370\n",
       "schedule-menu                        0.026258\n",
       "splash-screen                        0.023382\n",
       "manager-approval - shift-drop        0.019708\n",
       "auto-create-breaks                   0.019265\n",
       "report                               0.017749\n",
       "forecast-filter                      0.017716\n",
       "manager-approval - unavailability    0.014389\n",
       "schedule-action                      0.011514\n",
       "employee-details                     0.011352\n",
       "conversations                        0.011262\n",
       "payments                             0.011174\n",
       "growl-notification                   0.008946\n",
       "compliance-pay                       0.006959\n",
       "manager-approval - shift-list        0.006590\n",
       "manager-approval - shift-swap        0.005495\n",
       "analytics-summary                    0.004804\n",
       "schedule-view-options                0.004673\n",
       "role-filter                          0.004592\n",
       "availability-publishing              0.003908\n",
       "misc-pay                             0.003778\n",
       "shift-summary                        0.003727\n",
       "schedule-config                      0.003686\n",
       "analytics-action                     0.003407\n",
       "compliance-table                     0.003182\n",
       "tips                                 0.003055\n",
       "change-visibility                    0.002528\n",
       "auto-scheduling-menu                 0.002372\n",
       "filter-by-people                     0.001554\n",
       "employee-availability-summary        0.001538\n",
       "invite-user                          0.001412\n",
       "business-config                      0.001367\n",
       "manager-approval                     0.000947\n",
       "Business config                      0.000564\n",
       "shift-filter                         0.000140\n",
       "change-password                      0.000042\n",
       "availabilities-filter                0.000000\n",
       "dtype: float64"
      ]
     },
     "execution_count": 55,
     "metadata": {},
     "output_type": "execute_result"
    }
   ],
   "source": [
    "fi.sort_values(ascending=False)"
   ]
  },
  {
   "cell_type": "code",
   "execution_count": 59,
   "metadata": {},
   "outputs": [],
   "source": [
    "#过会儿再画图"
   ]
  },
  {
   "cell_type": "markdown",
   "metadata": {},
   "source": [
    "#### 2.xgbc"
   ]
  },
  {
   "cell_type": "code",
   "execution_count": 57,
   "metadata": {},
   "outputs": [
    {
     "data": {
      "image/png": "[encoded data removed]",
      "text/plain": [
       "<Figure size 432x288 with 1 Axes>"
      ]
     },
     "metadata": {
      "needs_background": "light"
     },
     "output_type": "display_data"
    }
   ],
   "source": [
    "from xgboost import plot_importance #显示特征重要性\n",
    "xgbc_fit = xgbc.fit(x_dropped, if_aos)\n",
    "plot_importance(xgbc_fit,max_num_features=10)\n",
    "plt.show()"
   ]
  },
  {
   "cell_type": "markdown",
   "metadata": {},
   "source": [
    "**预期得出结论**： aos对以上这些action有一定的影响作用"
   ]
  },
  {
   "cell_type": "markdown",
   "metadata": {},
   "source": [
    "***后续工作***：做一些描述性统计性的工作用于辅助说明，比如说使用aos和未使用aos的store各自的shift-action有多少，平均是多少"
   ]
  }
 ],
 "metadata": {
  "kernelspec": {
   "display_name": "Python 3",
   "language": "python",
   "name": "python3"
  },
  "language_info": {
   "codemirror_mode": {
    "name": "ipython",
    "version": 3
   },
   "file_extension": ".py",
   "mimetype": "text/x-python",
   "name": "python",
   "nbconvert_exporter": "python",
   "pygments_lexer": "ipython3",
   "version": "3.7.4"
  }
 },
 "nbformat": 4,
 "nbformat_minor": 4
}
